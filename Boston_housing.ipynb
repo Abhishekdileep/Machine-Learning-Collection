{
  "nbformat": 4,
  "nbformat_minor": 0,
  "metadata": {
    "colab": {
      "provenance": [],
      "authorship_tag": "ABX9TyMAo8C0fvwb6YOfkwrSBEsO",
      "include_colab_link": true
    },
    "kernelspec": {
      "name": "python3",
      "display_name": "Python 3"
    },
    "language_info": {
      "name": "python"
    }
  },
  "cells": [
    {
      "cell_type": "markdown",
      "metadata": {
        "id": "view-in-github",
        "colab_type": "text"
      },
      "source": [
        "<a href=\"https://colab.research.google.com/github/Abhishekdileep/Machine-Learning-Collection/blob/master/Boston_housing.ipynb\" target=\"_parent\"><img src=\"https://colab.research.google.com/assets/colab-badge.svg\" alt=\"Open In Colab\"/></a>"
      ]
    },
    {
      "cell_type": "code",
      "execution_count": 1,
      "metadata": {
        "id": "yxygUiTNscOB"
      },
      "outputs": [],
      "source": [
        "import pandas\n",
        "from keras.datasets import boston_housing\n",
        "\n",
        "from keras.models import Sequential\n",
        "from keras.layers import Dense\n",
        "from keras.wrappers.scikit_learn import KerasRegressor\n",
        "from sklearn.model_selection import cross_val_score , KFold\n",
        "from sklearn.preprocessing import StandardScaler\n",
        "from sklearn.pipeline import Pipeline"
      ]
    },
    {
      "cell_type": "code",
      "source": [
        "(X_train , y_train ) , (X_test , y_test) = boston_housing.load_data()"
      ],
      "metadata": {
        "colab": {
          "base_uri": "https://localhost:8080/"
        },
        "id": "nxIkFahyt9Pv",
        "outputId": "196fb14e-9c55-4f65-dd0e-72fa66b13400"
      },
      "execution_count": 2,
      "outputs": [
        {
          "output_type": "stream",
          "name": "stdout",
          "text": [
            "Downloading data from https://storage.googleapis.com/tensorflow/tf-keras-datasets/boston_housing.npz\n",
            "57026/57026 [==============================] - 0s 0us/step\n"
          ]
        }
      ]
    },
    {
      "cell_type": "code",
      "source": [
        "def baseline_model():\n",
        "  #create model\n",
        "  model = Sequential()\n",
        "  model.add(Dense(13 , input_dim=13 , kernel_initializer='normal' , activation='relu'))\n",
        "  model.add(Dense(6, kernel_initializer=\"normal\"))\n",
        "  model.add(Dense(1, kernel_initializer=\"normal\"))\n",
        "  #Compile Model\n",
        "  model.compile(loss='mean_squared_error' , optimizer='adam')\n",
        "  return model\n"
      ],
      "metadata": {
        "id": "oKDaKrvouvuv"
      },
      "execution_count": 10,
      "outputs": []
    },
    {
      "cell_type": "code",
      "source": [
        "baseline_model().summary()"
      ],
      "metadata": {
        "colab": {
          "base_uri": "https://localhost:8080/"
        },
        "id": "7fe0ZB5hx6q7",
        "outputId": "32eaf0e9-6595-4a5a-ee17-f96c90a3393f"
      },
      "execution_count": 11,
      "outputs": [
        {
          "output_type": "stream",
          "name": "stdout",
          "text": [
            "Model: \"sequential_32\"\n",
            "_________________________________________________________________\n",
            " Layer (type)                Output Shape              Param #   \n",
            "=================================================================\n",
            " dense_85 (Dense)            (None, 13)                182       \n",
            "                                                                 \n",
            " dense_86 (Dense)            (None, 6)                 84        \n",
            "                                                                 \n",
            " dense_87 (Dense)            (None, 1)                 7         \n",
            "                                                                 \n",
            "=================================================================\n",
            "Total params: 273\n",
            "Trainable params: 273\n",
            "Non-trainable params: 0\n",
            "_________________________________________________________________\n"
          ]
        }
      ]
    },
    {
      "cell_type": "code",
      "source": [
        "estimator = KerasRegressor(build_fn=baseline_model, epochs=100 , batch_size=5 , verbose=0)\n",
        "kfold = KFold(n_splits=10)\n",
        "results = cross_val_score(estimator, X_train , y_train , cv=kfold)\n",
        "print(\"Baseline: %.2f (%.2f) MSE\" %(results.mean() , results.std()))"
      ],
      "metadata": {
        "colab": {
          "base_uri": "https://localhost:8080/"
        },
        "id": "W9v-G7BZx94E",
        "outputId": "e20e283e-184d-4562-9a12-202d7fc39d53"
      },
      "execution_count": 12,
      "outputs": [
        {
          "output_type": "stream",
          "name": "stderr",
          "text": [
            "<ipython-input-12-a31ec646c891>:1: DeprecationWarning: KerasRegressor is deprecated, use Sci-Keras (https://github.com/adriangb/scikeras) instead. See https://www.adriangb.com/scikeras/stable/migration.html for help migrating.\n",
            "  estimator = KerasRegressor(build_fn=baseline_model, epochs=100 , batch_size=5 , verbose=0)\n"
          ]
        },
        {
          "output_type": "stream",
          "name": "stdout",
          "text": [
            "Baseline: -19.03 (8.07) MSE\n"
          ]
        }
      ]
    },
    {
      "cell_type": "code",
      "source": [
        "estimators = []\n",
        "estimators.append(('standardize', StandardScaler()))\n",
        "estimators.append(('mlp' , KerasRegressor(build_fn=baseline_model , epochs=50 , batch_size=5 , verbose=0)))\n",
        "pipeline = Pipeline(estimators)\n",
        "kfold = KFold(n_splits=10)\n",
        "results = cross_val_score(estimator, X_train , y_train , cv=kfold)\n",
        "print(\"Baseline: %.2f (%.2f) MSE\" %(results.mean() , results.std()))"
      ],
      "metadata": {
        "colab": {
          "base_uri": "https://localhost:8080/"
        },
        "id": "r8Iy5R3fz4lU",
        "outputId": "124e242b-4427-43ca-be26-37ee62de3391"
      },
      "execution_count": 13,
      "outputs": [
        {
          "output_type": "stream",
          "name": "stderr",
          "text": [
            "<ipython-input-13-f7804b9b68b7>:3: DeprecationWarning: KerasRegressor is deprecated, use Sci-Keras (https://github.com/adriangb/scikeras) instead. See https://www.adriangb.com/scikeras/stable/migration.html for help migrating.\n",
            "  estimators.append(('mlp' , KerasRegressor(build_fn=baseline_model , epochs=50 , batch_size=5 , verbose=0)))\n"
          ]
        },
        {
          "output_type": "stream",
          "name": "stdout",
          "text": [
            "Baseline: -21.60 (10.81) MSE\n"
          ]
        }
      ]
    },
    {
      "cell_type": "code",
      "source": [],
      "metadata": {
        "id": "YS5bUaoB-2Kt"
      },
      "execution_count": null,
      "outputs": []
    }
  ]
}