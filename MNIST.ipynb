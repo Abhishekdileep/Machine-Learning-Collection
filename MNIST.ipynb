{
  "nbformat": 4,
  "nbformat_minor": 0,
  "metadata": {
    "colab": {
      "provenance": [],
      "authorship_tag": "ABX9TyNqQcTy2EXHa9SmdDj+DtFW",
      "include_colab_link": true
    },
    "kernelspec": {
      "name": "python3",
      "display_name": "Python 3"
    },
    "language_info": {
      "name": "python"
    }
  },
  "cells": [
    {
      "cell_type": "markdown",
      "metadata": {
        "id": "view-in-github",
        "colab_type": "text"
      },
      "source": [
        "<a href=\"https://colab.research.google.com/github/Abhishekdileep/Machine-Learning-Collection/blob/master/MNIST.ipynb\" target=\"_parent\"><img src=\"https://colab.research.google.com/assets/colab-badge.svg\" alt=\"Open In Colab\"/></a>"
      ]
    },
    {
      "cell_type": "markdown",
      "source": [
        "### MNIST Dataset using ANN\n",
        "- We flatten out the input here without using any convolution\n",
        "- We use no RGB related data from the kernel\n",
        "- No sptial Invaraince and Local Continuity"
      ],
      "metadata": {
        "id": "3MYMPyRFyrS-"
      }
    },
    {
      "cell_type": "code",
      "execution_count": null,
      "metadata": {
        "id": "szQuwmQuE3Lp"
      },
      "outputs": [],
      "source": [
        "from keras.models import Sequential\n",
        "from keras.layers import Flatten, Dense, Dropout , Activation , Conv2D , MaxPooling2D\n",
        "from keras.utils import np_utils , to_categorical\n",
        "from keras.callbacks import Callback\n",
        "\n",
        "from keras.datasets import mnist\n",
        "\n",
        "import matplotlib.pyplot as plt"
      ]
    },
    {
      "cell_type": "code",
      "source": [
        "(X_train, y_train ) , (X_test , y_test) = mnist.load_data()\n"
      ],
      "metadata": {
        "colab": {
          "base_uri": "https://localhost:8080/"
        },
        "id": "bdaivAkEFlA7",
        "outputId": "7a2c7e4e-4324-495b-ae3c-c5159d2e22db"
      },
      "execution_count": null,
      "outputs": [
        {
          "output_type": "stream",
          "name": "stdout",
          "text": [
            "Downloading data from https://storage.googleapis.com/tensorflow/tf-keras-datasets/mnist.npz\n",
            "11490434/11490434 [==============================] - 0s 0us/step\n"
          ]
        }
      ]
    },
    {
      "cell_type": "code",
      "source": [],
      "metadata": {
        "id": "x2ZJgk-Fyvuy"
      },
      "execution_count": null,
      "outputs": []
    },
    {
      "cell_type": "code",
      "source": [
        "X_train = X_train.astype('float32')\n",
        "X_test = X_test.astype('float32')\n",
        "X_train = X_train/255\n",
        "X_test = X_test/ 255"
      ],
      "metadata": {
        "id": "NMFUOhEuF21O"
      },
      "execution_count": null,
      "outputs": []
    },
    {
      "cell_type": "code",
      "source": [
        "Y_train = np_utils.to_categorical(y_train , 10 )\n",
        "Y_test = np_utils.to_categorical(y_test , 10)\n"
      ],
      "metadata": {
        "id": "XMWxunHbGlBO"
      },
      "execution_count": null,
      "outputs": []
    },
    {
      "cell_type": "code",
      "source": [
        "model = Sequential()\n",
        "model.add(Flatten(input_shape=(28,28)))\n",
        "model.add(Dense(128, activation='relu'))\n",
        "model.add(Dropout(0.2))\n",
        "model.add(Dense(10))\n",
        "model.add(Activation('softmax'))"
      ],
      "metadata": {
        "id": "58nvrcGJM9cu"
      },
      "execution_count": null,
      "outputs": []
    },
    {
      "cell_type": "code",
      "source": [
        "model.summary()"
      ],
      "metadata": {
        "colab": {
          "base_uri": "https://localhost:8080/"
        },
        "id": "orCFVBrnhwYl",
        "outputId": "1516a53a-54c1-4191-baef-855aae73d02b"
      },
      "execution_count": null,
      "outputs": [
        {
          "output_type": "stream",
          "name": "stdout",
          "text": [
            "Model: \"sequential_5\"\n",
            "_________________________________________________________________\n",
            " Layer (type)                Output Shape              Param #   \n",
            "=================================================================\n",
            " flatten_5 (Flatten)         (None, 784)               0         \n",
            "                                                                 \n",
            " dense_6 (Dense)             (None, 128)               100480    \n",
            "                                                                 \n",
            " dropout_3 (Dropout)         (None, 128)               0         \n",
            "                                                                 \n",
            " dense_7 (Dense)             (None, 10)                1290      \n",
            "                                                                 \n",
            " activation_1 (Activation)   (None, 10)                0         \n",
            "                                                                 \n",
            "=================================================================\n",
            "Total params: 101,770\n",
            "Trainable params: 101,770\n",
            "Non-trainable params: 0\n",
            "_________________________________________________________________\n"
          ]
        }
      ]
    },
    {
      "cell_type": "code",
      "source": [
        "model.compile(loss='categorical_crossentropy' , optimizer='adam' , metrics=['accuracy'])"
      ],
      "metadata": {
        "id": "WIjGxHZYiMOk"
      },
      "execution_count": null,
      "outputs": []
    },
    {
      "cell_type": "code",
      "source": [
        "model.fit(X_train , Y_train , batch_size=32 , epochs = 10 , verbose = 1)"
      ],
      "metadata": {
        "colab": {
          "base_uri": "https://localhost:8080/"
        },
        "id": "2XQ8gWtOiUo0",
        "outputId": "659836f1-56f7-4cc7-c1de-0439fe30190c"
      },
      "execution_count": null,
      "outputs": [
        {
          "output_type": "stream",
          "name": "stdout",
          "text": [
            "Epoch 1/10\n",
            "1875/1875 [==============================] - 10s 5ms/step - loss: 0.2955 - accuracy: 0.9137\n",
            "Epoch 2/10\n",
            "1875/1875 [==============================] - 9s 5ms/step - loss: 0.1436 - accuracy: 0.9564\n",
            "Epoch 3/10\n",
            "1875/1875 [==============================] - 7s 4ms/step - loss: 0.1066 - accuracy: 0.9673\n",
            "Epoch 4/10\n",
            "1875/1875 [==============================] - 9s 5ms/step - loss: 0.0875 - accuracy: 0.9725\n",
            "Epoch 5/10\n",
            "1875/1875 [==============================] - 8s 4ms/step - loss: 0.0758 - accuracy: 0.9760\n",
            "Epoch 6/10\n",
            "1875/1875 [==============================] - 10s 5ms/step - loss: 0.0667 - accuracy: 0.9786\n",
            "Epoch 7/10\n",
            "1875/1875 [==============================] - 9s 5ms/step - loss: 0.0583 - accuracy: 0.9810\n",
            "Epoch 8/10\n",
            "1875/1875 [==============================] - 8s 4ms/step - loss: 0.0542 - accuracy: 0.9819\n",
            "Epoch 9/10\n",
            "1875/1875 [==============================] - 10s 5ms/step - loss: 0.0478 - accuracy: 0.9837\n",
            "Epoch 10/10\n",
            "1875/1875 [==============================] - 9s 5ms/step - loss: 0.0435 - accuracy: 0.9855\n"
          ]
        },
        {
          "output_type": "execute_result",
          "data": {
            "text/plain": [
              "<keras.callbacks.History at 0x799361af7250>"
            ]
          },
          "metadata": {},
          "execution_count": 36
        }
      ]
    },
    {
      "cell_type": "code",
      "source": [
        "score = model.evaluate(X_test, Y_test , verbose = 1)"
      ],
      "metadata": {
        "colab": {
          "base_uri": "https://localhost:8080/"
        },
        "id": "3kb3MmETib-a",
        "outputId": "e491e1b8-26d4-4917-9485-38d496b7f386"
      },
      "execution_count": null,
      "outputs": [
        {
          "output_type": "stream",
          "name": "stdout",
          "text": [
            "313/313 [==============================] - 1s 4ms/step - loss: 0.0750 - accuracy: 0.9769\n"
          ]
        }
      ]
    },
    {
      "cell_type": "code",
      "source": [
        "plt.imshow(X_test[0])"
      ],
      "metadata": {
        "colab": {
          "base_uri": "https://localhost:8080/",
          "height": 447
        },
        "id": "60DUVcXolSsq",
        "outputId": "12d16582-e69f-499e-9742-b269d0e63e01"
      },
      "execution_count": null,
      "outputs": [
        {
          "output_type": "execute_result",
          "data": {
            "text/plain": [
              "<matplotlib.image.AxesImage at 0x799388a0a1a0>"
            ]
          },
          "metadata": {},
          "execution_count": 38
        },
        {
          "output_type": "display_data",
          "data": {
            "text/plain": [
              "<Figure size 640x480 with 1 Axes>"
            ],
            "image/png": "[encoded data removed]"
          },
          "metadata": {}
        }
      ]
    },
    {
      "cell_type": "code",
      "source": [
        "from numpy import argmax\n",
        "X_test0 = X_test[0].reshape(-1,28,28)\n",
        "prediction = model.predict(X_test0)\n",
        "predicted_class = argmax(prediction)\n",
        "print(predicted_class)"
      ],
      "metadata": {
        "colab": {
          "base_uri": "https://localhost:8080/"
        },
        "id": "Aa7qW7rolbew",
        "outputId": "f92126d9-a56d-447f-ce69-c13379c00f57"
      },
      "execution_count": null,
      "outputs": [
        {
          "output_type": "stream",
          "name": "stdout",
          "text": [
            "1/1 [==============================] - 0s 198ms/step\n",
            "7\n"
          ]
        }
      ]
    },
    {
      "cell_type": "markdown",
      "source": [
        "### Convolution Neural Network Based Approach\n",
        "- We are using Kernels and all\n",
        "- the activation Function is Relu\n",
        "- Each block consist of CNN model followed by RELU activation followed by Max pooling\n",
        "- Flatten Layer at the end of the model with softmax classfier"
      ],
      "metadata": {
        "id": "FBzaaQIszed1"
      }
    },
    {
      "cell_type": "code",
      "source": [
        "batch_size = 128\n",
        "num_classes = 10\n",
        "epochs = 10\n",
        "\n",
        "#input image dimensions\n",
        "img_x , img_y = 28 , 28\n",
        "input_shape=(img_x , img_y , 1)"
      ],
      "metadata": {
        "id": "hEWT47cm9tkd"
      },
      "execution_count": null,
      "outputs": []
    },
    {
      "cell_type": "code",
      "source": [
        "(X_train, y_train ) , (X_test , y_test) = mnist.load_data()\n",
        "\n",
        "x_train = X_train.reshape(X_train.shape[0] , img_x , img_y , 1)\n",
        "x_test = X_test.reshape(X_test.shape[0] , img_x , img_y , 1 )"
      ],
      "metadata": {
        "id": "lOKQ0RUR9H_0"
      },
      "execution_count": null,
      "outputs": []
    },
    {
      "cell_type": "code",
      "source": [
        "x_train = x_train.astype('float32')\n",
        "x_test = x_test.astype('float32')\n",
        "x_train /= 255\n",
        "x_test /= 255"
      ],
      "metadata": {
        "id": "hAh6LFYelwn5"
      },
      "execution_count": null,
      "outputs": []
    },
    {
      "cell_type": "markdown",
      "source": [
        "View Pre-processed Data"
      ],
      "metadata": {
        "id": "hSvcL2-q-Nsm"
      }
    },
    {
      "cell_type": "code",
      "source": [
        "print('x_train shape : ' , x_train.shape)\n",
        "print(x_train.shape[0], 'train_samples')\n",
        "print(x_test.shape[0], 'test samples')\n"
      ],
      "metadata": {
        "colab": {
          "base_uri": "https://localhost:8080/"
        },
        "id": "qyNi3C3M-NXT",
        "outputId": "412877af-9db8-4459-b22f-706a287d3732"
      },
      "execution_count": null,
      "outputs": [
        {
          "output_type": "stream",
          "name": "stdout",
          "text": [
            "x_train shape :  (60000, 28, 28, 1)\n",
            "60000 train_samples\n",
            "10000 test samples\n"
          ]
        }
      ]
    },
    {
      "cell_type": "markdown",
      "source": [
        "Convert 1-D class arrays to 10-D class matrices and view the result"
      ],
      "metadata": {
        "id": "pQdLBm5s-hHH"
      }
    },
    {
      "cell_type": "code",
      "source": [
        "#convert class vectors to binary class matrices : this is for use in the\n",
        "# categorical crossentropy loss below\n",
        "\n",
        "y_train = to_categorical(y_train , num_classes)\n",
        "y_test = to_categorical(y_test , num_classes)"
      ],
      "metadata": {
        "id": "7E0ou88O-fU1"
      },
      "execution_count": null,
      "outputs": []
    },
    {
      "cell_type": "code",
      "source": [
        "def baseline_model():\n",
        "  model = Sequential()\n",
        "  model.add(Conv2D(32,kernel_size=(5,5),activation='relu',input_shape=input_shape))\n",
        "  model.add(MaxPooling2D(pool_size=(2,2)))\n",
        "  model.add(Conv2D(64, kernel_size=(5,5) , activation='relu'))\n",
        "  model.add(MaxPooling2D(pool_size=(2,2)))\n",
        "  model.add(Flatten())\n",
        "  model.add(Dense(num_classes , activation='softmax'))\n",
        "\n",
        "  model.compile(loss='categorical_crossentropy' , optimizer='adam' , metrics=['accuracy'])\n",
        "  return model"
      ],
      "metadata": {
        "id": "odWNTqWm-78a"
      },
      "execution_count": null,
      "outputs": []
    },
    {
      "cell_type": "code",
      "source": [
        "model = baseline_model()\n",
        "model.summary()"
      ],
      "metadata": {
        "colab": {
          "base_uri": "https://localhost:8080/"
        },
        "id": "oJyvF142DuvG",
        "outputId": "d8dbe7c5-fc5b-4b45-ce3c-6acf8d5c2627"
      },
      "execution_count": null,
      "outputs": [
        {
          "output_type": "stream",
          "name": "stdout",
          "text": [
            "Model: \"sequential\"\n",
            "_________________________________________________________________\n",
            " Layer (type)                Output Shape              Param #   \n",
            "=================================================================\n",
            " conv2d (Conv2D)             (None, 24, 24, 32)        832       \n",
            "                                                                 \n",
            " max_pooling2d (MaxPooling2D  (None, 12, 12, 32)       0         \n",
            " )                                                               \n",
            "                                                                 \n",
            " conv2d_1 (Conv2D)           (None, 8, 8, 64)          51264     \n",
            "                                                                 \n",
            " max_pooling2d_1 (MaxPooling  (None, 4, 4, 64)         0         \n",
            " 2D)                                                             \n",
            "                                                                 \n",
            " flatten (Flatten)           (None, 1024)              0         \n",
            "                                                                 \n",
            " dense (Dense)               (None, 10)                10250     \n",
            "                                                                 \n",
            "=================================================================\n",
            "Total params: 62,346\n",
            "Trainable params: 62,346\n",
            "Non-trainable params: 0\n",
            "_________________________________________________________________\n"
          ]
        }
      ]
    },
    {
      "cell_type": "code",
      "source": [
        "hist_model = model.fit(x_train, y_train , batch_size = 32 , epochs =10 )"
      ],
      "metadata": {
        "colab": {
          "base_uri": "https://localhost:8080/"
        },
        "id": "-DThIzc4DzF1",
        "outputId": "88bfc3d1-0c31-450a-d9c0-f302b142e146"
      },
      "execution_count": null,
      "outputs": [
        {
          "output_type": "stream",
          "name": "stdout",
          "text": [
            "Epoch 1/10\n",
            "1875/1875 [==============================] - 99s 53ms/step - loss: 0.0120 - accuracy: 0.9964\n",
            "Epoch 2/10\n",
            "1875/1875 [==============================] - 96s 51ms/step - loss: 0.0103 - accuracy: 0.9965\n",
            "Epoch 3/10\n",
            "1875/1875 [==============================] - 73s 39ms/step - loss: 0.0086 - accuracy: 0.9972\n",
            "Epoch 4/10\n",
            "1875/1875 [==============================] - 67s 35ms/step - loss: 0.0073 - accuracy: 0.9977\n",
            "Epoch 5/10\n",
            "1875/1875 [==============================] - 68s 36ms/step - loss: 0.0063 - accuracy: 0.9980\n",
            "Epoch 6/10\n",
            "1875/1875 [==============================] - 68s 36ms/step - loss: 0.0057 - accuracy: 0.9980\n",
            "Epoch 7/10\n",
            "1875/1875 [==============================] - 67s 36ms/step - loss: 0.0046 - accuracy: 0.9985\n",
            "Epoch 8/10\n",
            "1875/1875 [==============================] - 66s 35ms/step - loss: 0.0052 - accuracy: 0.9982\n",
            "Epoch 9/10\n",
            "1875/1875 [==============================] - 68s 36ms/step - loss: 0.0049 - accuracy: 0.9984\n",
            "Epoch 10/10\n",
            "1875/1875 [==============================] - 66s 35ms/step - loss: 0.0045 - accuracy: 0.9986\n"
          ]
        }
      ]
    },
    {
      "cell_type": "code",
      "source": [
        "model1 = baseline_model()\n",
        "hist_model1 = model1.fit(x_train, y_train , batch_size = 128  , epochs =10 , verbose =1 , validation_data=(x_test , y_test) )"
      ],
      "metadata": {
        "colab": {
          "base_uri": "https://localhost:8080/"
        },
        "id": "TLhaRqgiEHFl",
        "outputId": "2109148e-9afe-4d65-a8e2-dfac8a49dd98"
      },
      "execution_count": null,
      "outputs": [
        {
          "output_type": "stream",
          "name": "stdout",
          "text": [
            "Epoch 1/10\n",
            "469/469 [==============================] - 62s 130ms/step - loss: 0.2207 - accuracy: 0.9387 - val_loss: 0.0559 - val_accuracy: 0.9829\n",
            "Epoch 2/10\n",
            "469/469 [==============================] - 63s 135ms/step - loss: 0.0574 - accuracy: 0.9826 - val_loss: 0.0421 - val_accuracy: 0.9859\n",
            "Epoch 3/10\n",
            "469/469 [==============================] - 62s 131ms/step - loss: 0.0418 - accuracy: 0.9869 - val_loss: 0.0398 - val_accuracy: 0.9861\n",
            "Epoch 4/10\n",
            "469/469 [==============================] - 62s 132ms/step - loss: 0.0330 - accuracy: 0.9898 - val_loss: 0.0320 - val_accuracy: 0.9895\n",
            "Epoch 5/10\n",
            "469/469 [==============================] - 61s 131ms/step - loss: 0.0267 - accuracy: 0.9916 - val_loss: 0.0288 - val_accuracy: 0.9896\n",
            "Epoch 6/10\n",
            "469/469 [==============================] - 63s 135ms/step - loss: 0.0214 - accuracy: 0.9933 - val_loss: 0.0253 - val_accuracy: 0.9906\n",
            "Epoch 7/10\n",
            "469/469 [==============================] - 63s 135ms/step - loss: 0.0184 - accuracy: 0.9942 - val_loss: 0.0321 - val_accuracy: 0.9897\n",
            "Epoch 8/10\n",
            "469/469 [==============================] - 61s 131ms/step - loss: 0.0153 - accuracy: 0.9952 - val_loss: 0.0255 - val_accuracy: 0.9912\n",
            "Epoch 9/10\n",
            "469/469 [==============================] - 62s 132ms/step - loss: 0.0119 - accuracy: 0.9966 - val_loss: 0.0307 - val_accuracy: 0.9898\n",
            "Epoch 10/10\n",
            "469/469 [==============================] - 61s 131ms/step - loss: 0.0108 - accuracy: 0.9965 - val_loss: 0.0281 - val_accuracy: 0.9913\n"
          ]
        }
      ]
    },
    {
      "cell_type": "code",
      "source": [
        "def evaluate_model(model, model_log):\n",
        "  score = model.evaluate(x_test, y_test, verbose=0)\n",
        "  print('Test loss : ', score[0])\n",
        "  print('Test Accuracy:' , score[1])\n",
        "\n",
        "  print('Train Loss:' ,model_log.history['loss'][-1])\n",
        "  print('Train Accuracy:' , model_log.history['accuracy'][-1])\n",
        "  print('Test Loss:' , model_log.history['val_loss'][-1])\n",
        "  print('Test Accuracy' , model_log.history['val_accuracy'][-1])\n",
        "\n"
      ],
      "metadata": {
        "id": "EGZKrTJdFV6j"
      },
      "execution_count": null,
      "outputs": []
    }
  ]
}